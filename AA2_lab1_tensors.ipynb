{
  "nbformat": 4,
  "nbformat_minor": 0,
  "metadata": {
    "kernelspec": {
      "name": "python3",
      "display_name": "Python"
    },
    "language_info": {
      "name": "python",
      "version": "3.9.5"
    },
    "interpreter": {
      "hash": "aee8b7b246df8f9039afb4144a1f6fd8d2ca17a180786b69acc140d282b71a49"
    },
    "colab": {
      "provenance": [],
      "include_colab_link": true
    }
  },
  "cells": [
    {
      "cell_type": "markdown",
      "metadata": {
        "id": "view-in-github",
        "colab_type": "text"
      },
      "source": [
        "<a href=\"https://colab.research.google.com/github/PauMateo/GCED-AA2/blob/main/AA2_lab_tensors.ipynb\" target=\"_parent\"><img src=\"https://colab.research.google.com/assets/colab-badge.svg\" alt=\"Open In Colab\"/></a>"
      ]
    },
    {
      "cell_type": "markdown",
      "metadata": {
        "id": "R-tjDhXJeixW"
      },
      "source": [
        "# A World of Tensors and Differentiable Computing\n",
        "Created by [Santiago Pascual](https://scholar.google.es/citations?user=7cVOyh0AAAAJ&hl=ca) ([UPC School](https://www.talent.upc.edu/ing/estudis/formacio/curs/310400/postgrau-artificial-intelligence-deep-learning/) 2019).\n",
        "\n",
        "Updated by [Gerard I. Gállego](https://www.linkedin.com/in/gerard-gallego/) and [José A. R. Fonollosa](https://www.kaggle.com/jarfo1)\n",
        "\n",
        "In these lab exercises we are going to see:\n",
        "\n",
        "1. What are tensors, concretely in the PyTorch framework.\n",
        "2. How to operate with them, and typical operations for deep learning modeling.\n",
        "3. Broadcasting Semantics. Added by [Jose A. R. Fonollosa](https://www.kaggle.com/jarfo1)"
      ]
    },
    {
      "cell_type": "markdown",
      "metadata": {
        "id": "NwQSQBAt5WL2"
      },
      "source": [
        "## What is a Tensor?\n",
        "\n",
        "\n",
        "A Tensor is the generalization of a vector into k dimensions.\n",
        "\n",
        "![](https://miro.medium.com/max/644/1*SGqhI_WpSaEr17wo8ycUhg.png)\n",
        "\n",
        "Table taken from [1].\n",
        "\n",
        "Because of this, a tensor is any k-dimensional structure, including matrices, vectors and scalars. PyTorch is a deep learning framework (https://pytorch.org) widely used for both research and production. As in any other deep learning framework, its core data structure is the tensor."
      ]
    },
    {
      "cell_type": "code",
      "metadata": {
        "id": "vblAF9sPHO1C",
        "colab": {
          "base_uri": "https://localhost:8080/"
        },
        "outputId": "1e1552bb-33e4-45d6-8554-1921bc170f6b"
      },
      "source": [
        "# We first import PyTorch and Numpy libraries as fundamental tools to work with arrays and tensors\n",
        "import torch\n",
        "import numpy\n",
        "# initialize a random seed such that every execution will raise same random sequences of results\n",
        "torch.manual_seed(1)"
      ],
      "execution_count": null,
      "outputs": [
        {
          "output_type": "execute_result",
          "data": {
            "text/plain": [
              "<torch._C.Generator at 0x7935f7ea4970>"
            ]
          },
          "metadata": {},
          "execution_count": 1
        }
      ]
    },
    {
      "cell_type": "markdown",
      "metadata": {
        "id": "MQQFFjMQPT1n"
      },
      "source": [
        "#### Creating tensors with PyTorch"
      ]
    },
    {
      "cell_type": "code",
      "metadata": {
        "id": "dprzejqnHO1E",
        "colab": {
          "base_uri": "https://localhost:8080/"
        },
        "outputId": "216ea95d-c832-415c-b602-76de797b960b"
      },
      "source": [
        "# We can initialize an empty structure with certain dimensions:\n",
        "a = torch.empty(5, 7)\n",
        "# and we can check its dimensionality with the .shape attribute or .size() function\n",
        "a.shape\n",
        "a.size()"
      ],
      "execution_count": null,
      "outputs": [
        {
          "output_type": "execute_result",
          "data": {
            "text/plain": [
              "torch.Size([5, 7])"
            ]
          },
          "metadata": {},
          "execution_count": 4
        }
      ]
    },
    {
      "cell_type": "markdown",
      "metadata": {
        "id": "zl28ffg_67z8"
      },
      "source": [
        "Dimensions in PyTorch tensors are indexed from 0 onwards, so the first axis of size 5 is the *dim=0*."
      ]
    },
    {
      "cell_type": "code",
      "metadata": {
        "id": "vvwvu5ImHO1G",
        "colab": {
          "base_uri": "https://localhost:8080/"
        },
        "outputId": "16c18a5f-569c-49ec-e6ac-ca41bdbe6267"
      },
      "source": [
        "# YAYY we have created a tensor of size 5x7, but what does it contain?\n",
        "print(a)\n",
        "# Rubbish, nonsense, random stuff, it could be zero, it could be nan it could be whatever"
      ],
      "execution_count": null,
      "outputs": [
        {
          "output_type": "stream",
          "name": "stdout",
          "text": [
            "tensor([[3.3590e-07, 4.3482e-41, 8.4132e+16, 4.3481e-41, 3.3590e-07, 4.3482e-41,\n",
            "         3.1810e-07],\n",
            "        [4.3482e-41, 3.3590e-07, 4.3482e-41, 8.4134e+16, 4.3481e-41, 3.3590e-07,\n",
            "         4.3482e-41],\n",
            "        [8.4110e+16, 4.3481e-41, 3.3590e-07, 4.3482e-41, 8.4105e+16, 4.3481e-41,\n",
            "         3.3590e-07],\n",
            "        [4.3482e-41, 3.3469e-07, 4.3482e-41, 3.6543e-07, 4.3482e-41, 3.6543e-07,\n",
            "         4.3482e-41],\n",
            "        [3.3590e-07, 4.3482e-41, 8.4153e+16, 4.3481e-41, 3.3590e-07, 4.3482e-41,\n",
            "         2.8994e-12]])\n"
          ]
        }
      ]
    },
    {
      "cell_type": "code",
      "metadata": {
        "id": "4991ghcmHO1G",
        "colab": {
          "base_uri": "https://localhost:8080/"
        },
        "outputId": "840db4b4-7fd7-4f67-9246-835950b544c3"
      },
      "source": [
        "# We can easily fill the tensor with some fixed value with the .fill_(val) function\n",
        "a.fill_(10)\n",
        "print(a)"
      ],
      "execution_count": null,
      "outputs": [
        {
          "output_type": "stream",
          "name": "stdout",
          "text": [
            "tensor([[10., 10., 10., 10., 10., 10., 10.],\n",
            "        [10., 10., 10., 10., 10., 10., 10.],\n",
            "        [10., 10., 10., 10., 10., 10., 10.],\n",
            "        [10., 10., 10., 10., 10., 10., 10.],\n",
            "        [10., 10., 10., 10., 10., 10., 10.]])\n"
          ]
        }
      ]
    },
    {
      "cell_type": "code",
      "metadata": {
        "id": "uUPVay3MHO1H",
        "colab": {
          "base_uri": "https://localhost:8080/"
        },
        "outputId": "9e02550d-b0dd-45bc-8028-203f0ecf64d7"
      },
      "source": [
        "# Of course we could go k-dimensional, we just have to put more numbers in the init function\n",
        "a = torch.empty(2,4,6,8)\n",
        "print(a.shape)"
      ],
      "execution_count": null,
      "outputs": [
        {
          "output_type": "stream",
          "name": "stdout",
          "text": [
            "torch.Size([2, 4, 6, 8])\n"
          ]
        }
      ]
    },
    {
      "cell_type": "markdown",
      "metadata": {
        "id": "_F0pCzMXkEU6"
      },
      "source": [
        "#### There are functions in PyTorch to initialize some special tensors:\n",
        "\n",
        "* **torch.randn** samples from a Gaussian distribution (mean=0, std=1)\n",
        "* **torch.rand** samples from a uniform distribution [0, 1)\n",
        "* **torch.ones** creates a tensor with 1s\n",
        "* **torch.zeros** creates a tensor with 0s"
      ]
    },
    {
      "cell_type": "markdown",
      "metadata": {
        "id": "kC_o44hLkaqy"
      },
      "source": [
        "### Exercise 1\n",
        "\n",
        "Create a tensor *z* drawn from a Gaussian distribution of dimensions (16, 1024)"
      ]
    },
    {
      "cell_type": "code",
      "metadata": {
        "id": "wRnE36eUHO1I",
        "colab": {
          "base_uri": "https://localhost:8080/"
        },
        "outputId": "5eba0775-fd03-435f-f187-3485362dc0e6"
      },
      "source": [
        "# TODO: Gaussian tensor 16x1024\n",
        "z = torch.randn(16,1024)\n",
        "z.shape"
      ],
      "execution_count": null,
      "outputs": [
        {
          "output_type": "execute_result",
          "data": {
            "text/plain": [
              "torch.Size([16, 1024])"
            ]
          },
          "metadata": {},
          "execution_count": 13
        }
      ]
    },
    {
      "cell_type": "markdown",
      "metadata": {
        "id": "xdGiSnOKmSyv"
      },
      "source": [
        "#### Tensors data type\n",
        "\n",
        "Importantly, tensors have a data type (like numeric variables are int, float, double, etc.). We can check the type\n",
        "with the **tensor.dtype** attribute. We can also change the dtype of our tensor with a very simple cast following the data type name in the form of a function: **tensor.float()**, **tensor.int()**, **tensor.long()**, etc."
      ]
    },
    {
      "cell_type": "code",
      "metadata": {
        "id": "M7PGwVIDHO1J",
        "colab": {
          "base_uri": "https://localhost:8080/"
        },
        "outputId": "eb9a33fc-dae4-4b5e-ba54-a42a632268fb"
      },
      "source": [
        "a = torch.ones(5)\n",
        "print(a.dtype)\n",
        "\n",
        "# change to float64 (aka. double)\n",
        "print(a.double().dtype)\n",
        "\n",
        "# change to float16 (aka. half)\n",
        "print(a.half().dtype)\n",
        "\n",
        "# change to int16 (aka. short)\n",
        "print(a.short().dtype)\n",
        "\n",
        "# change to int64 (aka. long)\n",
        "print(a.long().dtype)\n"
      ],
      "execution_count": null,
      "outputs": [
        {
          "output_type": "stream",
          "name": "stdout",
          "text": [
            "torch.float32\n",
            "torch.float64\n",
            "torch.float16\n",
            "torch.int16\n",
            "torch.int64\n"
          ]
        }
      ]
    },
    {
      "cell_type": "code",
      "source": [],
      "metadata": {
        "colab": {
          "base_uri": "https://localhost:8080/"
        },
        "id": "PfIlBdE7eZiK",
        "outputId": "7d159bfa-d726-4c9d-c8ae-f880c16c8c44"
      },
      "execution_count": null,
      "outputs": [
        {
          "output_type": "execute_result",
          "data": {
            "text/plain": [
              "torch.float32"
            ]
          },
          "metadata": {},
          "execution_count": 17
        }
      ]
    },
    {
      "cell_type": "markdown",
      "metadata": {
        "id": "PQqUN7JGnhYl"
      },
      "source": [
        "And the way to create a tensor with a specific data type at initialization is either by specifying the **dtype=torch.<dtype\\>** during the tensor initialization, or using an explicit tensor constructor like **torch.FloatTensor()**, **torch.LongTensor()**, etc."
      ]
    },
    {
      "cell_type": "code",
      "metadata": {
        "id": "TE23m39WHO1K",
        "colab": {
          "base_uri": "https://localhost:8080/"
        },
        "outputId": "96713929-d8d9-4a34-de19-9f7ba10ef0c5"
      },
      "source": [
        "# Initialize a tensor with type short()\n",
        "a = torch.empty(5, 7, dtype=torch.short)\n",
        "print(a.dtype)\n",
        "\n",
        "# Directly create a short tensor\n",
        "a = torch.ShortTensor(5, 7)\n",
        "print(a.dtype)\n",
        "\n",
        "# Remember: there should be rubbish in these results, we just explicited a data type, not any value yet! (hence random memory is depicted)"
      ],
      "execution_count": null,
      "outputs": [
        {
          "output_type": "stream",
          "name": "stdout",
          "text": [
            "torch.int16\n",
            "torch.int16\n"
          ]
        }
      ]
    },
    {
      "cell_type": "markdown",
      "metadata": {
        "id": "0Tw0oG0HsXOf"
      },
      "source": [
        "#### Tips about tensor data types applied to deep learning:\n",
        "\n",
        "Keep in mind the following relations, they might be very useful for your future selves!\n",
        "\n",
        "* Float32 --> Data type for the neural network parameters and GPU operations!\n",
        "* Long (Int64) --> Data type for text inputs (e.g. indexes of words in a dictionary)\n",
        "* Float16 (Half) --> Data type for currently fastest GPU operations (with less precision) on advanced GPU implementations.\n",
        "\n",
        "Remember: only a sticknote for your future selves, in case you have to deal with any of the above mentioned things (embeddings, fastest GPU stuff, etc.).\n",
        "\n",
        "**TO SEE THE FULL SET OF PYTORCH TENSOR DATA TYPES, CHECK THE DOCUMENTATION AT https://pytorch.org/docs/stable/tensors.html**"
      ]
    },
    {
      "cell_type": "markdown",
      "metadata": {
        "id": "qK7tJePCnIoC"
      },
      "source": [
        "#### Bringing the tensors from Python and Numpy\n",
        "\n",
        "You may be familiarized with Numpy and Python lists. The former one is a MUST to do any scientific programming in Python, so if you need a refresh it is recommended to have a quick review: https://becominghuman.ai/an-essential-guide-to-numpy-for-machine-learning-in-python-5615e1758301 . The latter, lists, are the inherent mechanism of Python to create a sorted structure of elements (like a k-dimensional array, as we can embed lists in lists and so on).\n",
        "\n",
        "PyTorch is very well integrated with Numpy (actually PyTorch is supposed to be an enhanced Numpy, with algebraic operations also running on GPU!) and Python. We can hence convert our Numpy and lists into PyTorch tensors VERY EASILY!"
      ]
    },
    {
      "cell_type": "code",
      "metadata": {
        "id": "HWV8likfHO1L",
        "colab": {
          "base_uri": "https://localhost:8080/"
        },
        "outputId": "eef61fa8-34cf-4f10-8af0-29b39009b7c1"
      },
      "source": [
        "# Creating a 1-D tensor from the Numpy array [1, 2, 3]\n",
        "a = torch.tensor(numpy.array([1, 2, 3]))\n",
        "\n",
        "# Creating a 1-D tensor from the Python list [1, 2, 3]\n",
        "a = torch.tensor([1, 2, 3])\n",
        "# Values 1, 2, 3\n",
        "print('Tensor a values: ', a)\n",
        "# 1 dimension of size 3\n",
        "print('Tensor a shape: ', a.shape)"
      ],
      "execution_count": null,
      "outputs": [
        {
          "output_type": "stream",
          "name": "stdout",
          "text": [
            "Tensor a values:  tensor([1, 2, 3])\n",
            "Tensor a shape:  torch.Size([3])\n"
          ]
        }
      ]
    },
    {
      "cell_type": "code",
      "metadata": {
        "id": "CrU4Xym1HO1L",
        "colab": {
          "base_uri": "https://localhost:8080/"
        },
        "outputId": "17b82cdf-7703-4f35-b032-d701d36f3b05"
      },
      "source": [
        "# k-dimensional arrays are also turned into PyTorch tensors as easily as that\n",
        "A = torch.tensor(numpy.ones((16, 1024)))\n",
        "print(A.dtype)\n",
        "print(A.shape)"
      ],
      "execution_count": null,
      "outputs": [
        {
          "output_type": "stream",
          "name": "stdout",
          "text": [
            "torch.float64\n",
            "torch.Size([16, 1024])\n"
          ]
        }
      ]
    },
    {
      "cell_type": "markdown",
      "metadata": {
        "id": "-J5CGBU3V5gF"
      },
      "source": [
        "#### Converting tensors back to Numpy!\n",
        "\n",
        "Converting back to numpy arrays is as easy as getting the *.data* attribute of the tensor and calling its *.numpy()* casting function\n"
      ]
    },
    {
      "cell_type": "code",
      "metadata": {
        "id": "Jpd8Yc31HO1L",
        "colab": {
          "base_uri": "https://localhost:8080/"
        },
        "outputId": "0caf2bc6-cc56-46da-ab50-fb395e735015"
      },
      "source": [
        "A = torch.rand(10, 10)\n",
        "Anpy = A.data.numpy()\n",
        "print('A type: ', type(A)) # torch.Tensor\n",
        "print('Anpy type: ', type(Anpy)) # numpy.ndarray"
      ],
      "execution_count": null,
      "outputs": [
        {
          "output_type": "stream",
          "name": "stdout",
          "text": [
            "A type:  <class 'torch.Tensor'>\n",
            "Anpy type:  <class 'numpy.ndarray'>\n"
          ]
        }
      ]
    },
    {
      "cell_type": "code",
      "source": [],
      "metadata": {
        "colab": {
          "base_uri": "https://localhost:8080/"
        },
        "id": "ByvZEP5Zfh9C",
        "outputId": "d64cebce-923f-49a7-c402-c2e2c112aa0c"
      },
      "execution_count": null,
      "outputs": [
        {
          "output_type": "execute_result",
          "data": {
            "text/plain": [
              "tensor([[0.6982, 0.2143, 0.7166, 0.7372, 0.1099, 0.8023, 0.6734, 0.8289, 0.7939,\n",
              "         0.4602],\n",
              "        [0.9027, 0.6270, 0.3135, 0.9649, 0.5489, 0.3892, 0.4209, 0.6375, 0.9311,\n",
              "         0.3808],\n",
              "        [0.6157, 0.3979, 0.9866, 0.3685, 0.6817, 0.4172, 0.2788, 0.3278, 0.8681,\n",
              "         0.5490],\n",
              "        [0.9149, 0.2295, 0.4396, 0.0353, 0.6581, 0.6129, 0.6239, 0.7361, 0.0512,\n",
              "         0.5184],\n",
              "        [0.3848, 0.9038, 0.4987, 0.0647, 0.6673, 0.7973, 0.7368, 0.4315, 0.1684,\n",
              "         0.6460],\n",
              "        [0.8793, 0.3130, 0.0265, 0.2530, 0.0094, 0.5420, 0.5050, 0.5511, 0.0308,\n",
              "         0.9865],\n",
              "        [0.1166, 0.3469, 0.0884, 0.6478, 0.1883, 0.7910, 0.5903, 0.2200, 0.0739,\n",
              "         0.8191],\n",
              "        [0.9483, 0.6813, 0.3773, 0.1768, 0.2827, 0.6527, 0.5651, 0.3186, 0.0219,\n",
              "         0.8392],\n",
              "        [0.3319, 0.3078, 0.5460, 0.5115, 0.5262, 0.4415, 0.3781, 0.0703, 0.6583,\n",
              "         0.9998],\n",
              "        [0.8882, 0.0892, 0.8245, 0.0031, 0.9684, 0.0455, 0.1155, 0.4794, 0.7347,\n",
              "         0.6377]])"
            ]
          },
          "metadata": {},
          "execution_count": 27
        }
      ]
    },
    {
      "cell_type": "markdown",
      "metadata": {
        "id": "paUskvqytogM"
      },
      "source": [
        "### Exercise 2\n",
        "\n",
        "Create an **int16** *it* tensor in PyTorch (however you want) from the following numpy array *na*"
      ]
    },
    {
      "cell_type": "code",
      "metadata": {
        "id": "CMKLHQE3HO1M",
        "colab": {
          "base_uri": "https://localhost:8080/"
        },
        "outputId": "23eca06d-f806-4b15-f436-b39361109414"
      },
      "source": [
        "na = 10 * numpy.random.rand(8, 8)\n",
        "\n",
        "# TODO: create the short tensor out of 'na'\n",
        "it = torch.ShortTensor(na)\n",
        "it"
      ],
      "execution_count": null,
      "outputs": [
        {
          "output_type": "execute_result",
          "data": {
            "text/plain": [
              "tensor([[3, 3, 7, 1, 0, 0, 8, 7],\n",
              "        [0, 0, 1, 7, 6, 0, 7, 1],\n",
              "        [9, 0, 8, 7, 0, 6, 2, 3],\n",
              "        [7, 4, 1, 6, 3, 9, 8, 1],\n",
              "        [5, 4, 8, 4, 9, 1, 1, 9],\n",
              "        [2, 1, 1, 4, 5, 6, 4, 3],\n",
              "        [1, 9, 6, 2, 5, 9, 6, 0],\n",
              "        [9, 4, 1, 2, 2, 1, 3, 6]], dtype=torch.int16)"
            ]
          },
          "metadata": {},
          "execution_count": 35
        }
      ]
    },
    {
      "cell_type": "markdown",
      "metadata": {
        "id": "GHyxb3EkxHaT"
      },
      "source": [
        "## Operations with tensors\n",
        "\n",
        "The documentation of PyTorch tensors can be found online in: https://pytorch.org/docs/stable/tensors.html\n",
        "\n",
        "This section introduces two important types of operations in PyTorch:\n",
        "\n",
        "1. In-place operations\n",
        "2. Algebraic operations on tensors: transposing, squeezing/unsqueezing, slicing, chunking and concatenating"
      ]
    },
    {
      "cell_type": "markdown",
      "metadata": {
        "id": "ybnrLcAlNeJV"
      },
      "source": [
        "#### In-place operations"
      ]
    },
    {
      "cell_type": "code",
      "metadata": {
        "id": "GRPAc-vYHO1M",
        "colab": {
          "base_uri": "https://localhost:8080/"
        },
        "outputId": "925814a3-e228-4735-837c-bca19323d877"
      },
      "source": [
        "# In-place operations are those whose function name contain an underscore '_' as in fill_(val), add_(val), etc.\n",
        "a = torch.empty(2, 2)\n",
        "a.fill_(1)\n",
        "print(a)"
      ],
      "execution_count": null,
      "outputs": [
        {
          "output_type": "stream",
          "name": "stdout",
          "text": [
            "tensor([[1., 1.],\n",
            "        [1., 1.]])\n"
          ]
        }
      ]
    },
    {
      "cell_type": "code",
      "metadata": {
        "id": "hN4NEiEvHO1M",
        "colab": {
          "base_uri": "https://localhost:8080/"
        },
        "outputId": "f8fe134d-54b0-45da-e714-ddfa6137346a"
      },
      "source": [
        "# There are operations where both inplace and normal methods can be applied\n",
        "# For example to sum some value to the tensor\n",
        "a.add_(1)\n",
        "print(a) # prints a tensor of values \"2\"\n",
        "# This, though, takes no effect\n",
        "a.add(1)\n",
        "print(a)"
      ],
      "execution_count": null,
      "outputs": [
        {
          "output_type": "stream",
          "name": "stdout",
          "text": [
            "tensor([[2., 2.],\n",
            "        [2., 2.]])\n",
            "tensor([[2., 2.],\n",
            "        [2., 2.]])\n"
          ]
        }
      ]
    },
    {
      "cell_type": "code",
      "metadata": {
        "id": "jT-N5vskHO1N",
        "colab": {
          "base_uri": "https://localhost:8080/"
        },
        "outputId": "75e9776e-bde8-4ecd-ff1d-b5e266d2ebe1"
      },
      "source": [
        "# So yes, you guessed right! We have to actually assign the result to an output tensor to actually\n",
        "# get the outcome of this operation\n",
        "b = a.add(1)\n",
        "print(b) # NOW it prints a tensor of values \"3\"!"
      ],
      "execution_count": null,
      "outputs": [
        {
          "output_type": "stream",
          "name": "stdout",
          "text": [
            "tensor([[3., 3.],\n",
            "        [3., 3.]])\n"
          ]
        }
      ]
    },
    {
      "cell_type": "markdown",
      "metadata": {
        "id": "YwDuaN_w8ZQ3"
      },
      "source": [
        "### Exercise 3\n",
        "\n",
        "Do you notice an important difference between these in-place vs normal operations? Perhaps not yet... what if I tell you that I want to apply an operation upon a FloatTensor 10000x10000? Knowing that we have 32 bits per float value, compute the required memory to store that tensor in Megabytes (1 MB = 1.000.000 Bytes)"
      ]
    },
    {
      "cell_type": "code",
      "metadata": {
        "id": "a8xjAFTBHO1N",
        "colab": {
          "base_uri": "https://localhost:8080/"
        },
        "outputId": "b5e4562f-4fed-459e-e469-03e07fcb90f6"
      },
      "source": [
        "# TODO\n",
        "total_mem = 1e8*32/(8*1e6)\n",
        "\n",
        "print(total_mem)"
      ],
      "execution_count": null,
      "outputs": [
        {
          "output_type": "stream",
          "name": "stdout",
          "text": [
            "400.0\n"
          ]
        }
      ]
    },
    {
      "cell_type": "markdown",
      "metadata": {
        "id": "OGXDnygK-adC"
      },
      "source": [
        "### Now we can be more applied to deep learning. But with tensors, raw operations.\n",
        "\n",
        "A Neuron is defined as a linear operation of weighted sums followed by a non-linearity. We thus have a tensor of weights *w*, a scalar with the bias *b*, and a non-linearity (like ReLU *max(0, x)* that just allows the positive components to go forth in the *y* values).\n",
        "\n",
        "![](https://www.researchgate.net/profile/Haroldo_Campos_Velho2/publication/235901708/figure/fig1/AS:669443441049602@1536619162135/Artificial-neuron-Equation-neuron-output.ppm)\n"
      ]
    },
    {
      "cell_type": "code",
      "metadata": {
        "id": "KI44FserHO1N",
        "colab": {
          "base_uri": "https://localhost:8080/"
        },
        "outputId": "0171a614-faed-46ee-95d1-365bd9238d41"
      },
      "source": [
        "# We will have 1 input vector with 100.000 dimensions (features)\n",
        "x = torch.ones(1, 100000)\n",
        "\n",
        "# Our weight tensor is hence, for a neuron, 100.000 x 1\n",
        "w = 0.02 * torch.randn(100000, 1)\n",
        "\n",
        "\n",
        "# Let's define the function that will perform the operation of a neuron\n",
        "def forward_neuron(x, w, b):\n",
        "  v = x.mm(w) + b # .mm() is the matmul function (http://pytorch.org/docs/stable/torch.html#torch.mm)\n",
        "  y = v.clamp(min=0) # relu is defined as a truncation of the negative activations to zero (clamp function does the trick)\n",
        "  return y\n",
        "\n",
        "def forward_neuron_prova(x, w, b):\n",
        "  v = torch.mm(x, w) + b # .mm() is the matmul function (http://pytorch.org/docs/stable/torch.html#torch.mm)\n",
        "  y = v.clamp(min=0) # relu is defined as a truncation of the negative activations to zero (clamp function does the trick)\n",
        "  return y\n",
        "\n",
        "# Now we can see examples of operation through the relu\n",
        "\n",
        "# Our bias is just a scalar\n",
        "bp = 10 * torch.ones(1)\n",
        "\n",
        "print(forward_neuron(x, w, bp))\n",
        "\n",
        "# Shifting the bias quite negatively should raise zero\n",
        "bn = -10 * torch.ones(1)\n",
        "print(forward_neuron(x, w, bn))"
      ],
      "execution_count": null,
      "outputs": [
        {
          "output_type": "stream",
          "name": "stdout",
          "text": [
            "tensor([[18.0041]])\n",
            "tensor([[0.]])\n"
          ]
        }
      ]
    },
    {
      "cell_type": "markdown",
      "metadata": {
        "id": "qWXKiv2-xTWF"
      },
      "source": [
        "### Exercise 4\n",
        "\n",
        "Continuing with previous in-place vs normal operations rationale, please change the *forward_neuron* function to apply the ReLU in-place. This is very useful to save memory when constructing very deep nets.\n",
        "\n",
        "\n",
        "\n",
        "**NOTE:** for the record, this will solve the doubt you will have some day \"what is this inplace=True in the *nn.ReLU(inplace=True)* object?\" when you build neural networks with the PyTorch *torch.nn* API."
      ]
    },
    {
      "cell_type": "code",
      "metadata": {
        "id": "gijdLxWKHO1O",
        "colab": {
          "base_uri": "https://localhost:8080/"
        },
        "outputId": "50c31fbc-27de-492b-c9e1-8375ccabf18d"
      },
      "source": [
        "def forward_neuron(x, w, b):\n",
        "  v = x.mm(w) + b # .mm() is the matmul function (http://pytorch.org/docs/stable/torch.html#torch.mm)\n",
        "  v.clamp_(min=0)\n",
        "  return v\n",
        "\n",
        "print(forward_neuron(x, w, bp))"
      ],
      "execution_count": null,
      "outputs": [
        {
          "output_type": "stream",
          "name": "stdout",
          "text": [
            "tensor([[18.0041]])\n"
          ]
        }
      ]
    },
    {
      "cell_type": "markdown",
      "metadata": {
        "id": "Y85-XopvNafw"
      },
      "source": [
        "#### Transpositions and beyond\n",
        "\n",
        "Bear in mind the following FUNDAMENTAL operations to work with deep learning:\n",
        "\n",
        "* Tensor transposition: swapping dimensions in the tensor\n",
        "* Tensor chunking: breaking down a tensor into sub-pieces through a certain dimension\n",
        "* Tensor concatenation: merging different tensors into a single one.\n",
        "* Tensor squeezing/unsqueezing for dimension adjustments"
      ]
    },
    {
      "cell_type": "code",
      "metadata": {
        "id": "6lKXFOrCHO1O",
        "colab": {
          "base_uri": "https://localhost:8080/"
        },
        "outputId": "6e7d8d23-bf8d-48aa-89c9-66ff892df7ca"
      },
      "source": [
        "# Transposition\n",
        "\n",
        "A = torch.empty(10, 20, 5)\n",
        "\n",
        "# Swap axis 2 and 1\n",
        "A_21 = A.transpose(2, 1)\n",
        "\n",
        "print('{} transposed axis (2, 1) to: {}'.format(A.shape, A_21.shape))\n",
        "\n",
        "# Swap axis 2 and 0\n",
        "A_20 = A.transpose(2, 0)\n",
        "\n",
        "print('{} transposed axis (2, 0) to: {}'.format(A.shape, A_20.shape))"
      ],
      "execution_count": null,
      "outputs": [
        {
          "output_type": "stream",
          "name": "stdout",
          "text": [
            "torch.Size([10, 20, 5]) transposed axis (2, 1) to: torch.Size([10, 5, 20])\n",
            "torch.Size([10, 20, 5]) transposed axis (2, 0) to: torch.Size([5, 20, 10])\n"
          ]
        }
      ]
    },
    {
      "cell_type": "markdown",
      "metadata": {
        "id": "YiCQwQyTRBiu"
      },
      "source": [
        "**NOTE:** The utlity of transpositions will be seen further when dealing with different neural architecture designs."
      ]
    },
    {
      "cell_type": "code",
      "metadata": {
        "id": "PoGFe4j6HO1O",
        "colab": {
          "base_uri": "https://localhost:8080/"
        },
        "outputId": "18d27239-d91b-4e9f-b7d8-7be8c7653a7d"
      },
      "source": [
        "# Different axis can be merged with the .view() operator\n",
        "B = A.view(200, 5)\n",
        "print('{} axis (0, 1) merged to: {}'.format(A.shape, B.shape))"
      ],
      "execution_count": null,
      "outputs": [
        {
          "output_type": "stream",
          "name": "stdout",
          "text": [
            "torch.Size([10, 20, 5]) axis (0, 1) merged to: torch.Size([200, 5])\n"
          ]
        }
      ]
    },
    {
      "cell_type": "code",
      "metadata": {
        "id": "jWPto___HO1V",
        "colab": {
          "base_uri": "https://localhost:8080/"
        },
        "outputId": "ec101964-b947-40d6-a287-652f5f2794e4"
      },
      "source": [
        "# Note that giving a wrong size in the dimensions for .view() raises an error\n",
        "try:\n",
        "  B = A.view(201, 5)\n",
        "except RuntimeError:\n",
        "  print('Wrong dimension sizes specified in .view()!')"
      ],
      "execution_count": null,
      "outputs": [
        {
          "output_type": "stream",
          "name": "stdout",
          "text": [
            "Wrong dimension sizes specified in .view()!\n"
          ]
        }
      ]
    },
    {
      "cell_type": "code",
      "metadata": {
        "id": "F9ezqvt6HO1V",
        "colab": {
          "base_uri": "https://localhost:8080/"
        },
        "outputId": "cf9abd58-3dd6-4b28-db99-d38898d22a2b"
      },
      "source": [
        "# Chunking the tensor with .chunk() requires to specify how many chunks we want in which dimension\n",
        "# For example for tensor A: (10, 20, 5), we can chunk it into 5 sub-tensors of shape (10, 4, 5) each\n",
        "Achunks = torch.chunk(A, 5, dim=1)\n",
        "for i, achunk in enumerate(Achunks):\n",
        "  print('Chunk {} shape: {}'.format(i, achunk.shape))"
      ],
      "execution_count": null,
      "outputs": [
        {
          "output_type": "stream",
          "name": "stdout",
          "text": [
            "Chunk 0 shape: torch.Size([10, 4, 5])\n",
            "Chunk 1 shape: torch.Size([10, 4, 5])\n",
            "Chunk 2 shape: torch.Size([10, 4, 5])\n",
            "Chunk 3 shape: torch.Size([10, 4, 5])\n",
            "Chunk 4 shape: torch.Size([10, 4, 5])\n"
          ]
        }
      ]
    },
    {
      "cell_type": "code",
      "metadata": {
        "id": "0t5-H4alHO1V",
        "colab": {
          "base_uri": "https://localhost:8080/"
        },
        "outputId": "fd2b69e1-5f08-4b56-9616-df1f9b0d9d4c"
      },
      "source": [
        "# And tensors can be merged back to a tensor Amerged with .cat() operator, specifying in which dimension do we concatenate\n",
        "# So to go back to the same tensor as we had prior to chunking, we stack on dimension 1\n",
        "\n",
        "Amerged = torch.cat(Achunks, dim=1)\n",
        "print('Amerged shape: ', Amerged.shape)"
      ],
      "execution_count": null,
      "outputs": [
        {
          "output_type": "stream",
          "name": "stdout",
          "text": [
            "Amerged shape:  torch.Size([10, 20, 5])\n"
          ]
        }
      ]
    },
    {
      "cell_type": "markdown",
      "metadata": {
        "id": "sIIVSC4Ez7VF"
      },
      "source": [
        "Finally, we may want to add additional dimensions or remove them from our tensor.\n",
        "We achieve so with [.squeeze()](https://pytorch.org/docs/stable/torch.html#torch.squeeze) or [.unsqueeze()](https://pytorch.org/docs/stable/torch.html#torch.unsqueeze).\n",
        "\n"
      ]
    },
    {
      "cell_type": "code",
      "metadata": {
        "id": "5T7gRBkGHO1W",
        "colab": {
          "base_uri": "https://localhost:8080/"
        },
        "outputId": "5646f32b-33c8-4122-dcc9-bda5e721dbff"
      },
      "source": [
        "# Define an empty tensor to start from\n",
        "A = torch.empty(2, 2)\n",
        "\n",
        "# 1) Add an extra dimension in axis 0 (unsqueeze)\n",
        "A = A.unsqueeze(0)\n",
        "\n",
        "# 2) Add an extra dimension in axis 2\n",
        "A = A.unsqueeze(2)\n",
        "\n",
        "# 3) Add an extra dimension in axis 2 again\n",
        "A = A.unsqueeze(2)\n",
        "\n",
        "print('Current A shape after unsqueezing dimensions=(0, 2, 2): ', A.shape)"
      ],
      "execution_count": null,
      "outputs": [
        {
          "output_type": "stream",
          "name": "stdout",
          "text": [
            "Current A shape after unsqueezing dimensions=(0, 2, 2):  torch.Size([1, 2, 1, 1, 2])\n"
          ]
        }
      ]
    },
    {
      "cell_type": "code",
      "metadata": {
        "id": "wZTtZv0EHO1W",
        "colab": {
          "base_uri": "https://localhost:8080/"
        },
        "outputId": "d50fd746-a485-46c6-dc56-621cf9331b00"
      },
      "source": [
        "# 4) Remove the dimension 0 from step (1)\n",
        "\n",
        "A = A.squeeze(0)\n",
        "\n",
        "print('Current A shape after squeezing dim=0: ', A.shape)"
      ],
      "execution_count": null,
      "outputs": [
        {
          "output_type": "stream",
          "name": "stdout",
          "text": [
            "Current A shape after squeezing dim=0:  torch.Size([2, 1, 1, 2])\n"
          ]
        }
      ]
    },
    {
      "cell_type": "code",
      "metadata": {
        "id": "mFI-5DJCHO1W",
        "colab": {
          "base_uri": "https://localhost:8080/"
        },
        "outputId": "e75b49f9-93e9-4a30-a467-fd44a39cebe9"
      },
      "source": [
        "# 5) We will remove all remaining dimensions of size 1 (\"useless\") when we do not specify the dimension\n",
        "\n",
        "A = A.squeeze()\n",
        "\n",
        "print('Current A after squeezing all remaining dimensions of size 1: ', A.shape)"
      ],
      "execution_count": null,
      "outputs": [
        {
          "output_type": "stream",
          "name": "stdout",
          "text": [
            "Current A after squeezing all remaining dimensions of size 1:  torch.Size([2, 2])\n"
          ]
        }
      ]
    },
    {
      "cell_type": "markdown",
      "metadata": {
        "id": "Ya3h7RTxT3Nm"
      },
      "source": [
        "### Exercise 5\n",
        "\n",
        "Unsqueezing and squeezing dimensions can also be achieved with the [.view()](https://pytorch.org/docs/stable/tensors.html?highlight=view#torch.Tensor.view) function. \"View\" the tensor *A* to achieve the same shape as the one after step (3) in the previous section with a single function call to *.view()*"
      ]
    },
    {
      "cell_type": "code",
      "metadata": {
        "id": "iHnTv7eZHO1Z",
        "colab": {
          "base_uri": "https://localhost:8080/"
        },
        "outputId": "0b81ab5f-be20-4440-fc4f-d4f05ab62a00"
      },
      "source": [
        "A = torch.empty(2, 2)\n",
        "\n",
        "# TODO: use view to unsqueeze dimensions 0, 2 and 2 (as in the previous section)\n",
        "A = A.view(1,2,1,1,2)\n",
        "\n",
        "print('Current A shape: ', A.shape)"
      ],
      "execution_count": null,
      "outputs": [
        {
          "output_type": "stream",
          "name": "stdout",
          "text": [
            "Current A shape:  torch.Size([1, 2, 1, 1, 2])\n"
          ]
        }
      ]
    },
    {
      "cell_type": "markdown",
      "metadata": {
        "id": "1romtEZvf0j9"
      },
      "source": [
        "### Exercise 6 (Broadcasting semantics)\n",
        "\n",
        "Many PyTorch operations support [Broadcasting Semantics](https://pytorch.org/docs/stable/notes/broadcasting.html#broadcasting-semantics).\n",
        "\n",
        "If a PyTorch operation supports broadcast, then its Tensor arguments can be\n",
        "automatically expanded to be of equal sizes (without making copies of the data).\n",
        "\n",
        "Considering two tensors with at least one dimension, they are \"broadcastable\" if the following conditions are fulfilled, when iterating dimensions jointly from the last one:\n",
        "- Dimensions of both tensors are equal\n",
        "- One of them is 1\n",
        "- One of them does not exist\n",
        "\n",
        "Check these examples:\n",
        "```\n",
        "A.shape = torch.Size([      1])\n",
        "B.shape = torch.Size([3, 1, 7])\n",
        "C = A + B\n",
        "C.shape = torch.Size([3, 1, 7])\n",
        "```\n",
        "\n",
        "```\n",
        "A.shape = torch.Size([5, 1, 4, 1])\n",
        "B.shape = torch.Size([   3, 1, 1])\n",
        "C = A + B\n",
        "C.shape = torch.Size([5, 3, 4, 1])\n",
        "```\n",
        "\n",
        "```\n",
        "A.shape = torch.Size([5, 2, 4, 1])\n",
        "B.shape = torch.Size([   3, 1, 1])\n",
        "C = A + B  # Error, the broadcasting condition is broken in the second dimension\n",
        "```"
      ]
    },
    {
      "cell_type": "code",
      "metadata": {
        "id": "qGy-KlVyHO1a",
        "colab": {
          "base_uri": "https://localhost:8080/"
        },
        "outputId": "644a4ec6-73ea-4e5e-b59e-21d223ed3be2"
      },
      "source": [
        "a = torch.ones(5, 3, dtype=torch.int16)\n",
        "print(f\"a = {a}\\n\")\n",
        "print(f\"a.shape = {a.shape}\\n\")\n",
        "\n",
        "b = torch.tensor([1, 2, 3])\n",
        "print(f\"b = {b}\\n\")\n",
        "print(f\"b.shape = {b.shape}\\n\")\n",
        "\n",
        "print(f\"a*b = {a*b}\\n\")\n",
        "print(f\"(a*b).shape = {(a*b).shape}\")"
      ],
      "execution_count": 78,
      "outputs": [
        {
          "output_type": "stream",
          "name": "stdout",
          "text": [
            "a = tensor([[1, 1, 1],\n",
            "        [1, 1, 1],\n",
            "        [1, 1, 1],\n",
            "        [1, 1, 1],\n",
            "        [1, 1, 1]], dtype=torch.int16)\n",
            "\n",
            "a.shape = torch.Size([5, 3])\n",
            "\n",
            "b = tensor([1, 2, 3])\n",
            "\n",
            "b.shape = torch.Size([3])\n",
            "\n",
            "a*b = tensor([[1, 2, 3],\n",
            "        [1, 2, 3],\n",
            "        [1, 2, 3],\n",
            "        [1, 2, 3],\n",
            "        [1, 2, 3]])\n",
            "\n",
            "(a*b).shape = torch.Size([5, 3])\n"
          ]
        }
      ]
    },
    {
      "cell_type": "code",
      "metadata": {
        "id": "pIR9gdAPHO1a",
        "colab": {
          "base_uri": "https://localhost:8080/"
        },
        "outputId": "4ffd440e-2f52-4998-f378-063ebe170ff6"
      },
      "source": [
        "a = torch.ones(5, 3, dtype=torch.int16)\n",
        "print(f\"a = {a}\\n\")\n",
        "print(f\"a.shape = {a.shape}\\n\")\n",
        "\n",
        "b = torch.tensor([1, 2, 3, 4, 5])\n",
        "print(f\"b = {b}\\n\")\n",
        "print(f\"b.shape = {b.shape}\\n\")\n",
        "\n",
        "try:\n",
        "    # a and b are not broadcastable, because in the trailing dimension 3 != 5\n",
        "    print(f\"a*b = {a*b}\\n\") # Error\n",
        "except Exception as e:\n",
        "    print(f\"ERROR: {e}\")"
      ],
      "execution_count": 89,
      "outputs": [
        {
          "output_type": "stream",
          "name": "stdout",
          "text": [
            "a = tensor([[1, 1, 1],\n",
            "        [1, 1, 1],\n",
            "        [1, 1, 1],\n",
            "        [1, 1, 1],\n",
            "        [1, 1, 1]], dtype=torch.int16)\n",
            "\n",
            "a.shape = torch.Size([5, 3])\n",
            "\n",
            "b = tensor([1, 2, 3, 4, 5])\n",
            "\n",
            "b.shape = torch.Size([5])\n",
            "\n",
            "ERROR: The size of tensor a (3) must match the size of tensor b (5) at non-singleton dimension 1\n"
          ]
        }
      ]
    },
    {
      "cell_type": "code",
      "metadata": {
        "id": "vShiLXimHO1b",
        "colab": {
          "base_uri": "https://localhost:8080/"
        },
        "outputId": "fef27743-1b73-4500-9872-4feebbcc0551"
      },
      "source": [
        "# TODO: add a trailing dimension to b to make a and b broadcastable\n",
        "b = b.unsqueeze(1)\n",
        "\n",
        "print(f\"a*b = {a*b}\\n\")\n",
        "print(f\"(a*b).shape = {(a*b).shape}\")"
      ],
      "execution_count": 90,
      "outputs": [
        {
          "output_type": "stream",
          "name": "stdout",
          "text": [
            "a*b = tensor([[1, 1, 1],\n",
            "        [2, 2, 2],\n",
            "        [3, 3, 3],\n",
            "        [4, 4, 4],\n",
            "        [5, 5, 5]])\n",
            "\n",
            "(a*b).shape = torch.Size([5, 3])\n"
          ]
        }
      ]
    },
    {
      "cell_type": "markdown",
      "metadata": {
        "id": "80Zvpx366WlU"
      },
      "source": [
        "### Exercise 7 (Grand Finale)\n",
        "\n",
        "Given the tensor *A*, shuffle  each of the elements of the first dimension with the *random.shuffle* Python function.\n",
        "\n",
        "**Clue:** use the functions *torch.chunk*, *random.shuffle* (which acts in-place over Python lists), and *torch.cat*."
      ]
    },
    {
      "cell_type": "code",
      "metadata": {
        "id": "nqGYWJR5HO1b",
        "colab": {
          "base_uri": "https://localhost:8080/"
        },
        "outputId": "3b7c5973-21e1-4483-fc7e-6e999cc7653f"
      },
      "source": [
        "import torch\n",
        "import random\n",
        "A = torch.rand(4, 2, 4)\n",
        "print('A before shuffling:\\n ', A)\n",
        "\n",
        "# TODO: chunk the tensor, and convert the resulting\n",
        "# tuple into a Python list\n",
        "Achunks = torch.chunk(A, 4, dim=0)\n",
        "Achunks_list = list(Achunks)\n",
        "\n",
        "\n",
        "# TODO: operate with shuffle over the list\n",
        "random.shuffle(Achunks_list)\n",
        "\n",
        "# TODO: concatenate the sub-tensors in list \"A\" back\n",
        "# to tensor \"A\"\n",
        "A = torch.cat(Achunks_list, dim=0)\n",
        "\n",
        "print('A after shuffling:\\n ', A)"
      ],
      "execution_count": 101,
      "outputs": [
        {
          "output_type": "stream",
          "name": "stdout",
          "text": [
            "A before shuffling:\n",
            "  tensor([[[0.3125, 0.0799, 0.3498, 0.6975],\n",
            "         [0.9209, 0.1605, 0.4301, 0.1514]],\n",
            "\n",
            "        [[0.5673, 0.5094, 0.7613, 0.0999],\n",
            "         [0.4374, 0.4407, 0.3828, 0.9516]],\n",
            "\n",
            "        [[0.8862, 0.6329, 0.4695, 0.7136],\n",
            "         [0.4144, 0.5757, 0.7423, 0.4055]],\n",
            "\n",
            "        [[0.4669, 0.5343, 0.4287, 0.0763],\n",
            "         [0.9653, 0.7098, 0.8779, 0.8997]]])\n",
            "A after shuffling:\n",
            "  tensor([[[0.8862, 0.6329, 0.4695, 0.7136],\n",
            "         [0.4144, 0.5757, 0.7423, 0.4055]],\n",
            "\n",
            "        [[0.4669, 0.5343, 0.4287, 0.0763],\n",
            "         [0.9653, 0.7098, 0.8779, 0.8997]],\n",
            "\n",
            "        [[0.5673, 0.5094, 0.7613, 0.0999],\n",
            "         [0.4374, 0.4407, 0.3828, 0.9516]],\n",
            "\n",
            "        [[0.3125, 0.0799, 0.3498, 0.6975],\n",
            "         [0.9209, 0.1605, 0.4301, 0.1514]]])\n"
          ]
        }
      ]
    },
    {
      "cell_type": "markdown",
      "metadata": {
        "id": "dWqua-bDWatW"
      },
      "source": [
        "## Final Words\n",
        "\n",
        "Congrats! You reached the end of this introductory tutorial to PyTorch most fundamental data structure. Managing dimensions, casting dtypes, in-place operations and more are the EVERYDAY to-dos of a deep learner. So get ready to master these before delving into the coolest projects ever in which you'll build deep nets. Being confident with tensor operations is very important to properly design neural networks and avoid bugs!"
      ]
    },
    {
      "cell_type": "markdown",
      "metadata": {
        "id": "BhDWyIL97LZ9"
      },
      "source": [
        "### References\n",
        "\n",
        "[1] https://medium.com/datadriveninvestor/from-scalar-to-tensor-fundamental-mathematics-for-machine-learning-with-intuitive-examples-part-163727dfea8d\n",
        "\n",
        "[2] https://pytorch.org/tutorials/beginner/former_torchies/tensor_tutorial.html\n",
        "\n",
        "[3] https://pytorch.org/docs/stable/tensors.html\n"
      ]
    }
  ]
}
